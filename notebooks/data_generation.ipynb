{
 "cells": [
  {
   "cell_type": "code",
   "execution_count": 1,
   "metadata": {},
   "outputs": [],
   "source": [
    "import os\n",
    "\n",
    "from constants import OPENAI_API_KEY\n",
    "os.environ[\"OPENAI_API_KEY\"] =  OPENAI_API_KEY\n",
    "\n",
    "\n",
    "from tqdm import tqdm\n",
    "from pprint import pprint\n",
    "\n",
    "\n",
    "from langchain_openai import OpenAI\n",
    "from langchain.vectorstores import Chroma\n",
    "\n",
    "from langchain.prompts import ChatPromptTemplate\n",
    "from langchain.embeddings import OpenAIEmbeddings\n"
   ]
  },
  {
   "cell_type": "markdown",
   "metadata": {},
   "source": [
    "# Construct Skeleton Prompt Template"
   ]
  },
  {
   "cell_type": "code",
   "execution_count": 20,
   "metadata": {},
   "outputs": [],
   "source": [
    "template_string = \"\"\"Generate a real estate description\n",
    "of a house, it has to be maximum 100 words long and have \n",
    "the following characteristics:\n",
    "\n",
    "Neighborhood: {neighborhood}\\n\n",
    "Price: {price}\\n sqft\n",
    "Bedrooms: {bedrooms}\\n\n",
    "Bathrooms: {bathrooms}\\n\n",
    "House Size: {size}\\n\n",
    "\n",
    "\n",
    "Here are characteristics about the neighborhood:\n",
    "{neighborhood_details}\n",
    "\n",
    "And here some house specific details:\n",
    "{house_specific_details}\n",
    "\n",
    "It's mandatory to include these exact information in the description.\n",
    "Try not to start the description with the words \"Welcome to\".\n",
    "\n",
    "\"\"\"\n",
    "\n",
    "extracted_text = \"\"\"\n",
    "Take a look at the following example to have an idea of\n",
    "the expected output, the text is delimited by triple backticks:\n",
    "\n",
    "```{example}```\n",
    "\"\"\"\n",
    "\n",
    "prompt_template = ChatPromptTemplate.from_template(template_string)"
   ]
  },
  {
   "cell_type": "code",
   "execution_count": 21,
   "metadata": {},
   "outputs": [
    {
     "data": {
      "text/plain": [
       "['bathrooms',\n",
       " 'bedrooms',\n",
       " 'house_specific_details',\n",
       " 'neighborhood',\n",
       " 'neighborhood_details',\n",
       " 'price',\n",
       " 'size']"
      ]
     },
     "execution_count": 21,
     "metadata": {},
     "output_type": "execute_result"
    }
   ],
   "source": [
    "prompt_template.messages[0].input_variables"
   ]
  },
  {
   "cell_type": "markdown",
   "metadata": {},
   "source": [
    "# Setting Neighborhood Random Details"
   ]
  },
  {
   "cell_type": "code",
   "execution_count": 22,
   "metadata": {},
   "outputs": [
    {
     "data": {
      "text/plain": [
       "['Fantastic disco bars in the area',\n",
       " 'Bike-friendly roads',\n",
       " 'Closeness to drug stores',\n",
       " 'Easiness to get public transportation',\n",
       " 'Secure neighborhood',\n",
       " 'Closeness to work',\n",
       " 'Closeness to malls']"
      ]
     },
     "execution_count": 22,
     "metadata": {},
     "output_type": "execute_result"
    }
   ],
   "source": [
    "import random \n",
    "\n",
    "neighborhood_additional_details_list = [\n",
    "        \"Secure neighborhood\",\n",
    "        \"Close to touristic places\", \n",
    "        \"Nice restaurants in the area\", \n",
    "        \"Good bars in the area\", \n",
    "        \"Fantastic disco bars in the area\", \n",
    "        \"Easiness to get public transportation\",\n",
    "        \"Bike-friendly roads\",\n",
    "        \"Closeness to schools\", \n",
    "        \"Closeness to work\", \n",
    "        \"Closeness to malls\", \n",
    "        \"Closeness to supermarkets\",\n",
    "        \"Closeness to drug stores\",  \n",
    "]\n",
    "\n",
    "def random_list_sample(input_list):\n",
    "    len_list = len(input_list)\n",
    "    num_samples = random.randint(1, len_list)\n",
    "    return random.sample(input_list, num_samples)\n",
    "\n",
    "random_list_sample(neighborhood_additional_details_list)\n",
    "\n"
   ]
  },
  {
   "cell_type": "code",
   "execution_count": 23,
   "metadata": {},
   "outputs": [
    {
     "name": "stdout",
     "output_type": "stream",
     "text": [
      "Bustling residential location\n",
      "<class 'str'>\n"
     ]
    }
   ],
   "source": [
    "neighborhood_residential_location_details_list = [\n",
    "        \"Quiet residential location\", \n",
    "        \"Bustling residential location\", \n",
    "        \"Moderately quiet residential location\", \n",
    "]\n",
    "\n",
    "choice = random.choice(neighborhood_residential_location_details_list)\n",
    "print(choice)\n",
    "print(type(choice))"
   ]
  },
  {
   "cell_type": "code",
   "execution_count": 24,
   "metadata": {},
   "outputs": [
    {
     "name": "stdout",
     "output_type": "stream",
     "text": [
      "['Closeness to work', 'Closeness to supermarkets', 'Closeness to drug stores', 'Bike-friendly roads', 'Nice restaurants in the area', 'Fantastic disco bars in the area']\n",
      "<class 'list'>\n",
      "Quiet residential location\n",
      "<class 'str'>\n",
      "['Closeness to work', 'Closeness to supermarkets', 'Closeness to drug stores', 'Bike-friendly roads', 'Nice restaurants in the area', 'Fantastic disco bars in the area', 'Quiet residential location']\n"
     ]
    }
   ],
   "source": [
    "neighborhood_details_list = random_list_sample(neighborhood_additional_details_list)\n",
    "print(neighborhood_details_list)\n",
    "print(type(neighborhood_details_list))\n",
    "\n",
    "neighborhood_random_style = random.choice(neighborhood_residential_location_details_list)\n",
    "print(neighborhood_random_style)\n",
    "print(type(neighborhood_random_style))\n",
    "\n",
    "neighborhood_details_list.append(neighborhood_random_style)\n",
    "print(neighborhood_details_list)\n"
   ]
  },
  {
   "cell_type": "code",
   "execution_count": 25,
   "metadata": {},
   "outputs": [
    {
     "name": "stdout",
     "output_type": "stream",
     "text": [
      "Closeness to work\n",
      "Closeness to supermarkets\n",
      "Closeness to drug stores\n",
      "Bike-friendly roads\n",
      "Nice restaurants in the area\n",
      "Fantastic disco bars in the area\n",
      "Quiet residential location\n"
     ]
    }
   ],
   "source": [
    "neighborhood_details = \"\\n\".join(neighborhood_details_list)\n",
    "print(neighborhood_details)"
   ]
  },
  {
   "cell_type": "markdown",
   "metadata": {},
   "source": [
    "# Setting House Specific Random Details"
   ]
  },
  {
   "cell_type": "code",
   "execution_count": 32,
   "metadata": {},
   "outputs": [
    {
     "name": "stdout",
     "output_type": "stream",
     "text": [
      "Pool\n",
      "Reduce mobility friendly\n",
      "Solar energy\n",
      "Generous parking\n",
      "Townhouse\n",
      "Contemporary style\n"
     ]
    }
   ],
   "source": [
    "house_type_details = [\n",
    "    \"Single-family home\",\n",
    "    \"Condo\", \n",
    "    \"Townhouse\", \n",
    "]\n",
    "random_house_type = random.choice(house_type_details)\n",
    "\n",
    "house_style_details = [\n",
    "    \"Classic style\", \n",
    "    \"Contemporary style\", \n",
    "    \"Minimalist style\"\n",
    "]\n",
    "random_house_style = random.choice(house_style_details)\n",
    "\n",
    "house_additional_details = [\n",
    "        \"Solar energy\", \n",
    "        \"Generous parking\",\n",
    "        \"Gardens\", \n",
    "        \"Pool\", \n",
    "        \"Reduce mobility friendly\", \n",
    "        \"Pet friendly\", \n",
    "        \"Requires remodelling\", \n",
    "]\n",
    "\n",
    "house_details_list = random_list_sample(house_additional_details)\n",
    "house_details_list.append(random_house_type)\n",
    "house_details_list.append(random_house_style)\n",
    "\n",
    "\n",
    "\n",
    "house_details = \"\\n\".join(house_details_list)\n",
    "print(house_details)"
   ]
  },
  {
   "cell_type": "markdown",
   "metadata": {},
   "source": [
    "# Setting Sample Expected Output"
   ]
  },
  {
   "cell_type": "code",
   "execution_count": 33,
   "metadata": {},
   "outputs": [
    {
     "name": "stdout",
     "output_type": "stream",
     "text": [
      "INPUT:\n",
      "\n",
      "Neighborhood: Green Oaks\n",
      "Price: $800,000\n",
      "Bedrooms: 3\n",
      "Bathrooms: 2\n",
      "House Size: 2,000 sqft\n",
      "\n",
      "OUTPUT:\n",
      "\n",
      "Welcome to this eco-friendly oasis\n",
      "nestled in the heart of Green Oaks. This charming\n",
      "3-bedroom, 2-bathroom home boasts energy-efficient\n",
      "features such as solar panels and a well-insulated\n",
      "structure. Natural light floods the living spaces,\n",
      "highlighting the beautiful hardwood floors and\n",
      "eco-conscious finishes. The open-concept kitchen and\n",
      "dining area lead to a spacious backyard with a \n",
      "vegetable garden, perfect for the eco-conscious family.\n",
      "Embrace sustainable living without compromising on style \n",
      "in this Green Oaks gem.\n",
      "\n"
     ]
    }
   ],
   "source": [
    "SAMPLE_DESCRIPTION = \"\"\"INPUT:\n",
    "\n",
    "Neighborhood: Green Oaks\n",
    "Price: $800,000\n",
    "Bedrooms: 3\n",
    "Bathrooms: 2\n",
    "House Size: 2,000 sqft\n",
    "\n",
    "OUTPUT:\n",
    "\n",
    "Welcome to this eco-friendly oasis\n",
    "nestled in the heart of Green Oaks. This charming\n",
    "3-bedroom, 2-bathroom home boasts energy-efficient\n",
    "features such as solar panels and a well-insulated\n",
    "structure. Natural light floods the living spaces,\n",
    "highlighting the beautiful hardwood floors and\n",
    "eco-conscious finishes. The open-concept kitchen and\n",
    "dining area lead to a spacious backyard with a \n",
    "vegetable garden, perfect for the eco-conscious family.\n",
    "Embrace sustainable living without compromising on style \n",
    "in this Green Oaks gem.\n",
    "\"\"\"\n",
    "print(SAMPLE_DESCRIPTION)"
   ]
  },
  {
   "cell_type": "markdown",
   "metadata": {},
   "source": [
    "# Generate Random Input Data for Template"
   ]
  },
  {
   "cell_type": "code",
   "execution_count": 34,
   "metadata": {},
   "outputs": [],
   "source": [
    "import random\n",
    "\n",
    "def random_data_generation():\n",
    "\n",
    "    boroughs_list = [\"Manhattan\", \"Brooklyn\", \"Queens\", \"The Bronx\", \"Staten Island\"]\n",
    "    price_list = list(range(100_000, 1_000_000, 50_000))\n",
    "    size_list = list(range(800, 10_000, 100))\n",
    "\n",
    "    neighborhood = random.choice(boroughs_list)\n",
    "    price = random.choice(price_list)\n",
    "    size = random.choice(size_list)\n",
    "    bathrooms = random.randint(1, 5)\n",
    "    bedrooms = random.randint(1, 5)\n",
    "\n",
    "    return neighborhood, price, size, bathrooms, bedrooms"
   ]
  },
  {
   "cell_type": "code",
   "execution_count": 35,
   "metadata": {},
   "outputs": [
    {
     "name": "stdout",
     "output_type": "stream",
     "text": [
      "('Brooklyn', 150000, 5200, 4, 4)\n",
      "('Manhattan', 950000, 6400, 4, 1)\n",
      "('Manhattan', 900000, 2700, 2, 5)\n",
      "('The Bronx', 950000, 7400, 1, 3)\n",
      "('Staten Island', 700000, 4100, 4, 1)\n",
      "('Staten Island', 800000, 4200, 5, 5)\n",
      "('Manhattan', 800000, 2000, 5, 4)\n",
      "('The Bronx', 500000, 1300, 5, 5)\n",
      "('Staten Island', 200000, 5900, 4, 5)\n",
      "('Brooklyn', 400000, 7200, 1, 3)\n"
     ]
    }
   ],
   "source": [
    "for _ in range(10):\n",
    "    print(random_data_generation())"
   ]
  },
  {
   "cell_type": "code",
   "execution_count": 40,
   "metadata": {},
   "outputs": [
    {
     "name": "stdout",
     "output_type": "stream",
     "text": [
      "Secure neighborhood\n",
      "Bike-friendly roads\n",
      "Closeness to supermarkets\n",
      "Fantastic disco bars in the area\n",
      "Closeness to schools\n",
      "Bustling residential location\n"
     ]
    }
   ],
   "source": [
    "def random_neighborhood_data_generation():\n",
    "    neighborhood_details_list = random_list_sample(neighborhood_additional_details_list)\n",
    "    neighborhood_random_style = random.choice(neighborhood_residential_location_details_list)\n",
    "\n",
    "    neighborhood_details_list.append(neighborhood_random_style)\n",
    "\n",
    "    neighborhood_details = \"\\n\".join(neighborhood_details_list)\n",
    "\n",
    "    return neighborhood_details\n",
    "\n",
    "\n",
    "print(random_neighborhood_data_generation())"
   ]
  },
  {
   "cell_type": "code",
   "execution_count": 44,
   "metadata": {},
   "outputs": [
    {
     "name": "stdout",
     "output_type": "stream",
     "text": [
      "Solar energy\n",
      "Pool\n",
      "Generous parking\n",
      "Single-family home\n",
      "Contemporary style\n"
     ]
    }
   ],
   "source": [
    "def random_house_details_generation():\n",
    "    random_house_type = random.choice(house_type_details)\n",
    "\n",
    "\n",
    "    random_house_style = random.choice(house_style_details)\n",
    "\n",
    "\n",
    "    house_details_list = random_list_sample(house_additional_details)\n",
    "    house_details_list.append(random_house_type)\n",
    "    house_details_list.append(random_house_style)\n",
    "    house_details = \"\\n\".join(house_details_list)\n",
    "    return house_details\n",
    "\n",
    "print(random_house_details_generation())"
   ]
  },
  {
   "cell_type": "markdown",
   "metadata": {},
   "source": [
    "# Testing Template"
   ]
  },
  {
   "cell_type": "code",
   "execution_count": 49,
   "metadata": {},
   "outputs": [
    {
     "name": "stdout",
     "output_type": "stream",
     "text": [
      "[HumanMessage(content='Generate a real estate description\\nof a house, it has to be maximum 100 words long and have \\nthe following characteristics:\\n\\nNeighborhood: Brooklyn\\n\\nPrice: 500000\\n sqft\\nBedrooms: 4\\n\\nBathrooms: 5\\n\\nHouse Size: 1900\\n\\n\\n\\nHere are characteristics about the neighborhood:\\nCloseness to schools\\nSecure neighborhood\\nCloseness to drug stores\\nFantastic disco bars in the area\\nCloseness to work\\nBike-friendly roads\\nClose to touristic places\\nNice restaurants in the area\\nCloseness to supermarkets\\nCloseness to malls\\nGood bars in the area\\nBustling residential location\\n\\nAnd here some house specific details:\\nPool\\nSolar energy\\nPet friendly\\nGenerous parking\\nGardens\\nReduce mobility friendly\\nTownhouse\\nContemporary style\\n\\nIt\\'s mandatory to include these exact information in the description.\\nTry not to start the description with the words \"Welcome to\".\\n\\n')]\n"
     ]
    }
   ],
   "source": [
    "\n",
    "\n",
    "NEIGHBORHOOD_DETAILS = random_neighborhood_data_generation()\n",
    "HOUSE_DETAILS = random_house_details_generation()\n",
    "\n",
    "INPUT_NEIGHBORHOOD, INPUT_PRICE, INPUT_SIZE, INPUT_BATHROOMS, INPUT_BEDROOMS  = random_data_generation()\n",
    "\n",
    "prompt_description = prompt_template.format_messages(\n",
    "    neighborhood = INPUT_NEIGHBORHOOD, \n",
    "    price = INPUT_PRICE, \n",
    "    bedrooms = INPUT_BEDROOMS, \n",
    "    bathrooms= INPUT_BATHROOMS, \n",
    "    size = INPUT_SIZE,  \n",
    "    neighborhood_details = NEIGHBORHOOD_DETAILS,\n",
    "    house_specific_details = HOUSE_DETAILS,\n",
    "\n",
    "    example = SAMPLE_DESCRIPTION,\n",
    ")\n",
    "\n",
    "print(prompt_description)\n",
    "\n",
    " "
   ]
  },
  {
   "cell_type": "markdown",
   "metadata": {},
   "source": [
    "# Testing ChatBot Descriptions"
   ]
  },
  {
   "cell_type": "code",
   "execution_count": 46,
   "metadata": {},
   "outputs": [],
   "source": [
    "completion_model_name = \"gpt-3.5-turbo-instruct\"\n",
    "\n",
    "bot = OpenAI(\n",
    "    model_name=completion_model_name, \n",
    "    temperature=0.5, \n",
    "    # max_tokens = 100,\n",
    ")"
   ]
  },
  {
   "cell_type": "code",
   "execution_count": 47,
   "metadata": {},
   "outputs": [
    {
     "name": "stdout",
     "output_type": "stream",
     "text": [
      "\n",
      "Located in the heart of The Bronx, this contemporary style house offers a unique opportunity for those seeking a vibrant and convenient lifestyle. With a spacious 5800 sqft house size, this 1 bedroom, 4 bathroom home is perfect for those looking for a low-maintenance living space. The neighborhood boasts fantastic disco bars, nice restaurants, and close proximity to supermarkets, making it an ideal location for entertainment and daily necessities. The house is also reduce mobility friendly and equipped with solar energy, providing both comfort and sustainability. Enjoy the pool and gardens, perfect for relaxation and hosting guests. This condo also offers generous parking and the potential for remodelling to make it your dream home. Don't miss out on this amazing opportunity in a moderately quiet residential location. \n"
     ]
    }
   ],
   "source": [
    "bot_description = bot.invoke(prompt_description)\n",
    "print(bot_description)"
   ]
  },
  {
   "cell_type": "code",
   "execution_count": 48,
   "metadata": {},
   "outputs": [
    {
     "name": "stdout",
     "output_type": "stream",
     "text": [
      "128\n"
     ]
    }
   ],
   "source": [
    "print(len(bot_description.split(\" \")))"
   ]
  },
  {
   "cell_type": "markdown",
   "metadata": {},
   "source": [
    "# Generate Random Data"
   ]
  },
  {
   "cell_type": "code",
   "execution_count": 50,
   "metadata": {},
   "outputs": [
    {
     "name": "stderr",
     "output_type": "stream",
     "text": [
      "  0%|          | 0/40 [00:00<?, ?it/s]"
     ]
    },
    {
     "name": "stderr",
     "output_type": "stream",
     "text": [
      "100%|██████████| 40/40 [01:12<00:00,  1.81s/it]\n"
     ]
    }
   ],
   "source": [
    "NUM_SAMPLES = 40\n",
    "description_list = []\n",
    "\n",
    "for _ in tqdm(range(NUM_SAMPLES)):\n",
    "\n",
    "    INPUT_NEIGHBORHOOD, INPUT_PRICE, INPUT_SIZE, INPUT_BATHROOMS, INPUT_BEDROOMS  = random_data_generation()\n",
    "\n",
    "    prompt_description = prompt_template.format_messages(\n",
    "        neighborhood = INPUT_NEIGHBORHOOD, \n",
    "        price = INPUT_PRICE, \n",
    "        bedrooms = INPUT_BEDROOMS, \n",
    "        bathrooms= INPUT_BATHROOMS, \n",
    "        size = INPUT_SIZE,  \n",
    "        neighborhood_details = NEIGHBORHOOD_DETAILS,\n",
    "        house_specific_details = HOUSE_DETAILS,\n",
    "    )\n",
    "\n",
    "    bot_description = bot.invoke(prompt_description)\n",
    "    description_list.append(bot_description)    \n"
   ]
  },
  {
   "cell_type": "code",
   "execution_count": 51,
   "metadata": {},
   "outputs": [
    {
     "name": "stdout",
     "output_type": "stream",
     "text": [
      "('\\n'\n",
      " 'This stunning contemporary townhouse in the bustling residential location of '\n",
      " 'The Bronx is the perfect place to call home. Boasting 1 bedroom and 5 '\n",
      " 'bathrooms, this spacious 5600 sqft house offers ample living space for you '\n",
      " 'and your family. The neighborhood is highly sought after for its closeness '\n",
      " 'to schools, work, and a variety of amenities including drug stores, '\n",
      " \"supermarkets, and malls. Plus, you'll love the fantastic disco bars, nice \"\n",
      " 'restaurants, and good bars just steps away from your front door. Enjoy the '\n",
      " 'convenience of being in a secure and bike-friendly neighborhood, with '\n",
      " 'generous parking and gardens. And with solar energy and reduced mobility '\n",
      " \"features, this pet-friendly home has it all. Don't miss out on the \"\n",
      " 'opportunity to own this gem for just $700,000!')\n",
      "'Description length: 124 words.'\n",
      "______________________________________________________________________________________________________________________________________________________\n",
      "('\\n'\n",
      " 'Experience the best of Brooklyn living in this contemporary townhouse '\n",
      " 'boasting 5100 sqft of luxurious living space. Located in a bustling '\n",
      " 'residential neighborhood, this 1 bedroom, 5 bathroom house is priced at only '\n",
      " '$350000. The secure and bike-friendly roads make it easy to get around, '\n",
      " 'while the close proximity to schools, drug stores, work, and touristic '\n",
      " 'places add convenience to your daily life. Enjoy the fantastic disco bars, '\n",
      " 'nice restaurants, and good bars in the area, or relax in your own private '\n",
      " 'pool and gardens. This pet-friendly house also features solar energy, '\n",
      " \"generous parking, and reduced mobility accessibility. Don't miss out on this \"\n",
      " 'amazing opportunity to call this house your home.')\n",
      "'Description length: 111 words.'\n",
      "______________________________________________________________________________________________________________________________________________________\n",
      "('\\n'\n",
      " 'Nestled in the bustling residential location of Manhattan, this contemporary '\n",
      " 'townhouse offers the perfect blend of urban living and luxurious amenities. '\n",
      " 'With 1 bedroom and 3 bathrooms, this spacious 7500 sqft house is ideal for '\n",
      " 'those looking for a stylish and modern home. The neighborhood boasts of '\n",
      " 'being bike-friendly and close to schools, drug stores, supermarkets, and '\n",
      " 'malls, making daily errands a breeze. Enjoy the convenience of a secure and '\n",
      " 'pet-friendly environment, along with generous parking and reduced mobility '\n",
      " 'accessibility. Unwind in the gardens or take a dip in the pool, all powered '\n",
      " 'by solar energy. With fantastic disco bars, nice restaurants, and good bars '\n",
      " \"in the area, this is truly a dream home in the heart of Manhattan. Don't \"\n",
      " 'miss the opportunity to make this your own for just $750,000.')\n",
      "'Description length: 131 words.'\n",
      "______________________________________________________________________________________________________________________________________________________\n",
      "('\\n'\n",
      " 'Welcome to this charming contemporary townhouse located in the bustling '\n",
      " 'residential neighborhood of Queens. Perfect for a single person or couple, '\n",
      " 'this 1 bedroom, 2 bathroom house boasts a spacious 3600 sqft of living '\n",
      " 'space. The secure neighborhood offers peace of mind while the closeness to '\n",
      " 'schools, drug stores, and supermarkets provides convenience. Enjoy the '\n",
      " 'fantastic disco bars, nice restaurants, and good bars in the area for '\n",
      " 'entertainment. This pet-friendly house also features a pool, solar energy, '\n",
      " 'and generous parking. The bike-friendly roads and reduce mobility '\n",
      " \"accessibility make it easy to get around. Don't miss the chance to own a \"\n",
      " 'piece of this vibrant and desirable neighborhood for just $400,000.')\n",
      "'Description length: 110 words.'\n",
      "______________________________________________________________________________________________________________________________________________________\n",
      "('Introducing this stunning contemporary townhouse located in the bustling '\n",
      " 'residential location of Staten Island. With a spacious 8100 sqft house size, '\n",
      " 'this pet-friendly home offers 1 bedroom and 4 bathrooms, perfect for a small '\n",
      " 'family or a couple. Enjoy the convenience of being close to schools, drug '\n",
      " 'stores, work, and touristic places, as well as having bike-friendly roads '\n",
      " 'and generous parking. The neighborhood is secure and offers fantastic disco '\n",
      " 'bars, nice restaurants, and good bars for entertainment. With a pool, solar '\n",
      " \"energy, and gardens, this home is also reduce mobility friendly. Don't miss \"\n",
      " 'the chance to make this your dream home for the affordable price of '\n",
      " '$600,000.')\n",
      "'Description length: 107 words.'\n",
      "______________________________________________________________________________________________________________________________________________________\n",
      "('\\n'\n",
      " 'Experience the best of Queens living in this stunning townhouse situated in '\n",
      " 'a bustling residential location. With a contemporary style and a spacious '\n",
      " '2600 sqft, this house offers the perfect blend of modern convenience and '\n",
      " 'comfort. Boasting 2 bedrooms and 5 bathrooms, there is plenty of space for a '\n",
      " 'growing family. The neighborhood offers a secure and bike-friendly '\n",
      " 'environment, with easy access to schools, drug stores, supermarkets, malls, '\n",
      " 'and fantastic restaurants and bars. Enjoy the luxury of a pool and solar '\n",
      " 'energy, perfect for entertaining guests. The generous parking and '\n",
      " \"pet-friendly features make this house ideal for any lifestyle. Don't miss \"\n",
      " 'out on the opportunity to call this house your home.')\n",
      "'Description length: 111 words.'\n",
      "______________________________________________________________________________________________________________________________________________________\n",
      "('\\n'\n",
      " 'Introducing this stunning Brooklyn townhouse, located in a bustling '\n",
      " 'residential neighborhood that offers the perfect blend of convenience and '\n",
      " 'entertainment. With its contemporary style and spacious 7800 sqft, this '\n",
      " '2-bedroom, 3-bathroom house is the epitome of luxury living. The secure '\n",
      " 'neighborhood is close to schools, drug stores, supermarkets, and malls, '\n",
      " 'making errands a breeze. Enjoy the fantastic disco bars and good bars in the '\n",
      " 'area, or take a stroll to the nearby touristic places. This pet-friendly '\n",
      " 'house also boasts a pool, solar energy, and generous parking, perfect for '\n",
      " 'entertaining guests. With bike-friendly roads and reduced mobility '\n",
      " \"accessibility, this house truly has it all. Don't miss out on the \"\n",
      " 'opportunity to call this house your home for the price of $900,000.')\n",
      "'Description length: 120 words.'\n",
      "______________________________________________________________________________________________________________________________________________________\n",
      "('\\n'\n",
      " 'This stunning Manhattan townhouse offers the perfect blend of modern luxury '\n",
      " 'and bustling city living. Located in a secure and sought-after neighborhood, '\n",
      " 'this spacious home boasts 5 bedrooms and 2 bathrooms, making it ideal for '\n",
      " 'families or those who love to entertain. With over 5700 sqft of living '\n",
      " 'space, there is plenty of room for everyone. The neighborhood offers '\n",
      " 'convenient access to top-rated schools, drug stores, supermarkets, and '\n",
      " 'malls, as well as fantastic restaurants, bars, and touristic attractions. '\n",
      " 'Enjoy the convenience of a bike-friendly area and generous parking, as well '\n",
      " 'as the added bonus of a pool, solar energy, and pet-friendly accommodations. '\n",
      " \"Don't miss out on this contemporary masterpiece in the heart of Manhattan.\")\n",
      "'Description length: 114 words.'\n",
      "______________________________________________________________________________________________________________________________________________________\n",
      "('\\n'\n",
      " 'This stunning townhouse in Queens offers the perfect combination of comfort, '\n",
      " 'convenience, and style. With 2 bedrooms and 2 bathrooms, this contemporary '\n",
      " 'home boasts 5400 sqft of living space, providing plenty of room for '\n",
      " 'relaxation and entertainment. The bustling residential location offers easy '\n",
      " 'access to schools, drug stores, supermarkets, and malls, making daily '\n",
      " 'errands a breeze. Enjoy the fantastic disco bars and good bars in the area, '\n",
      " 'or take a short bike ride to nearby touristic places. The house features a '\n",
      " 'pool, solar energy, and generous parking, as well as being pet-friendly and '\n",
      " \"reduce mobility friendly. Don't miss the opportunity to live in this secure \"\n",
      " 'and bike-friendly neighborhood, surrounded by nice restaurants and beautiful '\n",
      " \"gardens. Don't wait, schedule a showing today!\")\n",
      "'Description length: 121 words.'\n",
      "______________________________________________________________________________________________________________________________________________________\n",
      "('\\n'\n",
      " 'This stunning contemporary townhouse in the bustling residential location of '\n",
      " 'Brooklyn offers the perfect combination of luxury and convenience. With a '\n",
      " 'spacious 9600 sqft house size, this one bedroom, three bathroom home is '\n",
      " 'ideal for those seeking a modern and low-maintenance lifestyle. The '\n",
      " 'neighborhood boasts a secure and bike-friendly environment, as well as being '\n",
      " 'in close proximity to schools, drug stores, and supermarkets. Enjoy the '\n",
      " 'convenience of solar energy and generous parking, as well as pet-friendly '\n",
      " 'and reduced mobility features. With fantastic disco bars, nice restaurants, '\n",
      " 'and good bars in the area, as well as being close to work and touristic '\n",
      " \"places, this house truly has it all. Don't miss the opportunity to call this \"\n",
      " 'beautiful property your home for the price of $900,000.')\n",
      "'Description length: 124 words.'\n",
      "______________________________________________________________________________________________________________________________________________________\n",
      "('\\n'\n",
      " 'Located in the bustling residential location of Staten Island, this '\n",
      " 'contemporary townhouse offers the perfect combination of luxury and '\n",
      " 'convenience. With a spacious 6100 sqft house size, this 4 bedroom, 5 '\n",
      " 'bathroom home is ideal for a growing family. The neighborhood boasts a '\n",
      " 'secure environment and is in close proximity to schools, drug stores, and '\n",
      " 'supermarkets. Enjoy the convenience of bike-friendly roads and being just a '\n",
      " 'short distance from work and popular tourist attractions. This pet-friendly '\n",
      " 'home also features a pool, solar energy, and generous parking. The beautiful '\n",
      " 'gardens make for a peaceful retreat, while the reduce mobility friendly '\n",
      " \"design ensures comfort for all. Don't miss the opportunity to own this \"\n",
      " 'fantastic home in a prime location, priced at just $800,000. ')\n",
      "'Description length: 122 words.'\n",
      "______________________________________________________________________________________________________________________________________________________\n",
      "('This stunning contemporary townhouse in the bustling residential location of '\n",
      " 'Manhattan is a must-see! With a spacious 9900 sqft house size, this '\n",
      " 'pet-friendly home offers 1 bedroom and 2 bathrooms, making it perfect for a '\n",
      " 'couple or single occupant. Enjoy the convenience of being close to schools, '\n",
      " 'drug stores, supermarkets, and malls, while also being just a short distance '\n",
      " 'from fantastic disco bars, nice restaurants, and good bars. The secure '\n",
      " 'neighborhood and bike-friendly roads make it easy to get around, and the '\n",
      " 'solar energy and gardens add to the eco-friendly aspect of this home. With a '\n",
      " 'pool, generous parking, and reduced mobility accessibility, this house truly '\n",
      " \"has it all. Don't miss out on this amazing opportunity to live in the heart \"\n",
      " 'of Manhattan!')\n",
      "'Description length: 123 words.'\n",
      "______________________________________________________________________________________________________________________________________________________\n",
      "('\\n'\n",
      " 'Welcome to this stunning contemporary townhouse in the bustling residential '\n",
      " 'location of Manhattan. With 5 bedrooms and 1 bathroom, this spacious home '\n",
      " 'boasts 4200 sqft of living space, perfect for a growing family. The '\n",
      " 'neighborhood offers a secure and bike-friendly environment, with easy access '\n",
      " 'to schools, drug stores, and supermarkets. Enjoy the convenience of being '\n",
      " 'close to work and popular touristic places, while also having fantastic '\n",
      " 'disco bars, nice restaurants, and good bars just minutes away. The house '\n",
      " 'features a pool, solar energy, and generous parking, making it pet-friendly '\n",
      " \"and reduce mobility friendly. Don't miss the chance to call this beautiful \"\n",
      " 'house your new home!')\n",
      "'Description length: 105 words.'\n",
      "______________________________________________________________________________________________________________________________________________________\n",
      "('\\n'\n",
      " 'Experience the best of city living in this stunning contemporary townhouse '\n",
      " 'located in the bustling residential neighborhood of The Bronx. With 1 '\n",
      " 'bedroom, 4 bathrooms, and a spacious 3400 sqft house size, this home offers '\n",
      " 'the perfect blend of luxury and convenience. The secure neighborhood boasts '\n",
      " 'a close proximity to schools, drug stores, supermarkets, and malls, making '\n",
      " 'daily errands a breeze. Enjoy the vibrant nightlife with fantastic disco '\n",
      " 'bars and good bars just steps away. The pet-friendly property also features '\n",
      " 'a pool, solar energy, and generous parking, making it perfect for '\n",
      " \"entertaining friends and family. Don't miss out on this prime location with \"\n",
      " 'easy access to work and touristic places. Welcome to your dream home in The '\n",
      " 'Bronx!')\n",
      "'Description length: 118 words.'\n",
      "______________________________________________________________________________________________________________________________________________________\n",
      "('\\n'\n",
      " 'This stunning townhouse in the bustling residential location of The Bronx '\n",
      " 'offers the perfect blend of contemporary style and convenience. With 2 '\n",
      " 'bedrooms and 2 bathrooms, this spacious home boasts 7700 sqft of living '\n",
      " 'space, providing ample room for all your needs. The neighborhood offers a '\n",
      " 'secure and bike-friendly environment, as well as close proximity to schools, '\n",
      " 'drug stores, and supermarkets. Enjoy the fantastic disco bars and good bars '\n",
      " 'in the area, or take a short drive to explore the nearby touristic places. '\n",
      " 'The house features a pool, solar energy, and is pet-friendly with generous '\n",
      " 'parking and gardens. Additionally, it is reduce mobility friendly, making it '\n",
      " \"the perfect home for anyone. Don't miss out on this gem priced at $700,000. \")\n",
      "'Description length: 121 words.'\n",
      "______________________________________________________________________________________________________________________________________________________\n",
      "('\\n'\n",
      " 'Nestled in the bustling residential location of Brooklyn, this contemporary '\n",
      " 'townhouse boasts 4 bedrooms, 3 bathrooms, and a spacious 7400 sqft of living '\n",
      " 'space. Perfect for families, this home offers a secure neighborhood with '\n",
      " 'close proximity to schools, drug stores, supermarkets, and malls. Enjoy the '\n",
      " 'convenience of bike-friendly roads and being just a short commute away from '\n",
      " 'work. After a long day, unwind in the fantastic disco bars or indulge in the '\n",
      " 'delicious cuisine at the nearby restaurants. This pet-friendly property also '\n",
      " 'features a pool, solar energy, generous parking, and gardens, making it '\n",
      " \"reduce mobility friendly. Don't miss out on this opportunity to live in the \"\n",
      " 'heart of Brooklyn for just $350,000!')\n",
      "'Description length: 112 words.'\n",
      "______________________________________________________________________________________________________________________________________________________\n",
      "('\\n'\n",
      " 'Experience the best of city living in this stunning townhouse located in the '\n",
      " 'bustling residential location of The Bronx. With 4 bedrooms, 2 bathrooms, '\n",
      " 'and a spacious 3400 sqft of living space, this contemporary style house is '\n",
      " 'perfect for a growing family. The neighborhood offers a secure and '\n",
      " 'bike-friendly environment, with close proximity to schools, drug stores, and '\n",
      " 'supermarkets. Enjoy the convenience of living close to work and popular '\n",
      " 'tourist destinations. The house features a pool, solar energy, and '\n",
      " 'pet-friendly accommodations. With generous parking and reduced mobility '\n",
      " \"accessibility, this home has everything you need. Don't miss out on the \"\n",
      " 'chance to call this fantastic house your home for just $750,000.')\n",
      "'Description length: 110 words.'\n",
      "______________________________________________________________________________________________________________________________________________________\n",
      "('\\n'\n",
      " 'This stunning townhouse in the bustling residential location of Queens '\n",
      " 'offers the perfect blend of modern living and convenience. With 2 bedrooms '\n",
      " 'and 2 bathrooms, this contemporary style house boasts a spacious 4400 sqft, '\n",
      " 'providing ample space for comfortable living. The neighborhood offers a '\n",
      " 'secure environment and is in close proximity to top-rated schools, drug '\n",
      " 'stores, and supermarkets. Enjoy the convenience of being close to work and '\n",
      " 'popular touristic places, while also having access to fantastic disco bars, '\n",
      " 'nice restaurants, and good bars in the area. The house also features a pool, '\n",
      " 'solar energy, pet-friendly amenities, generous parking, and beautiful '\n",
      " \"gardens. Don't miss the opportunity to call this house your home for the \"\n",
      " 'affordable price of $900,000. ')\n",
      "'Description length: 118 words.'\n",
      "______________________________________________________________________________________________________________________________________________________\n",
      "('Introducing a stunning contemporary townhouse located in the bustling '\n",
      " 'residential neighborhood of Staten Island. This 2-bedroom, 5-bathroom house '\n",
      " 'boasts a spacious 8800 sqft of living space, perfect for comfortable living. '\n",
      " 'The secure neighborhood offers easy access to top-rated schools, drug '\n",
      " 'stores, and supermarkets, making daily errands a breeze. Enjoy the '\n",
      " 'convenience of being close to work and popular touristic places, while also '\n",
      " 'having bike-friendly roads for a leisurely ride. With fantastic disco bars, '\n",
      " \"nice restaurants, and good bars in the area, there's always something to do. \"\n",
      " 'This pet-friendly house features a pool, solar energy, generous parking, and '\n",
      " \"gardens, making it perfect for any lifestyle. Don't miss the opportunity to \"\n",
      " 'call this townhouse your home. Schedule a viewing today!')\n",
      "'Description length: 118 words.'\n",
      "______________________________________________________________________________________________________________________________________________________\n",
      "('Welcome to this stunning contemporary townhouse in the bustling residential '\n",
      " 'location of Manhattan. Located in a secure neighborhood, this 1-bedroom, '\n",
      " '5-bathroom house offers 5700 sqft of spacious living space. Perfect for '\n",
      " 'those who value closeness to schools, work, and amenities such as drug '\n",
      " 'stores, supermarkets, and malls. Enjoy the fantastic disco bars, nice '\n",
      " 'restaurants, and good bars in the area, or take a bike ride on the '\n",
      " 'bike-friendly roads. This house also features a pool, solar energy, and is '\n",
      " 'pet-friendly. With generous parking and gardens, it is also reduce mobility '\n",
      " \"friendly. Don't miss out on this opportunity to live in the heart of \"\n",
      " 'Manhattan.')\n",
      "'Description length: 104 words.'\n",
      "______________________________________________________________________________________________________________________________________________________\n",
      "('\\n'\n",
      " 'This stunning contemporary townhouse is located in the bustling residential '\n",
      " 'neighborhood of Staten Island. With a spacious 5800 sqft house size, this 3 '\n",
      " 'bedroom, 3 bathroom home offers the perfect combination of luxury and '\n",
      " 'comfort. The neighborhood boasts a secure atmosphere, with schools, drug '\n",
      " 'stores, and supermarkets just minutes away. Enjoy the convenience of '\n",
      " 'bike-friendly roads and being close to work. Take advantage of the fantastic '\n",
      " 'disco bars, nice restaurants, and good bars in the area. This pet-friendly '\n",
      " 'home also features a pool, solar energy, and generous parking. The gardens '\n",
      " 'and reduced mobility accessibility make this home perfect for any lifestyle. '\n",
      " \"Don't miss the opportunity to live in this fantastic location for the \"\n",
      " 'affordable price of $800,000. ')\n",
      "'Description length: 118 words.'\n",
      "______________________________________________________________________________________________________________________________________________________\n",
      "('\\n'\n",
      " 'Experience the best of Manhattan living in this luxurious townhouse. Located '\n",
      " 'in a bustling residential location, this contemporary style home offers a '\n",
      " \"spacious 6100 sqft of living space. With 1 bedroom and 5 bathrooms, there's \"\n",
      " 'plenty of room for you and your family. The neighborhood is perfect for '\n",
      " 'families, with its close proximity to schools, drug stores, and '\n",
      " 'supermarkets. Enjoy the convenience of being close to work and having '\n",
      " 'bike-friendly roads for your daily commute. Spend your weekends exploring '\n",
      " 'the fantastic disco bars, nice restaurants, and good bars in the area. This '\n",
      " 'pet-friendly home also features a pool, solar energy, and generous parking. '\n",
      " \"Don't miss out on this amazing opportunity to live in the heart of \"\n",
      " 'Manhattan. ')\n",
      "'Description length: 118 words.'\n",
      "______________________________________________________________________________________________________________________________________________________\n",
      "('\\n'\n",
      " 'Nestled in the bustling residential location of Brooklyn, this contemporary '\n",
      " 'townhouse offers the perfect blend of luxury and convenience. With 5 '\n",
      " 'bedrooms and 5 bathrooms, this 9300 sqft house is perfect for a growing '\n",
      " 'family. The neighborhood boasts a secure environment with close proximity to '\n",
      " 'schools, drug stores, and supermarkets. Enjoy the fantastic disco bars and '\n",
      " 'good bars in the area, or take a short bike ride to the nearby touristic '\n",
      " 'places. This pet-friendly house also features a pool, solar energy, and '\n",
      " 'generous parking, making it ideal for entertaining guests. With gardens and '\n",
      " \"reduced mobility accessibility, this house truly has it all. Don't miss out \"\n",
      " 'on this gem for the price of $950,000.')\n",
      "'Description length: 113 words.'\n",
      "______________________________________________________________________________________________________________________________________________________\n",
      "('\\n'\n",
      " 'Experience the best of Manhattan living in this stunning townhouse! Located '\n",
      " 'in a bustling residential neighborhood, this contemporary style house offers '\n",
      " '3 spacious bedrooms and 1 modern bathroom, perfect for a growing family or '\n",
      " 'young professionals. Boasting 7800 sqft of living space, this home also '\n",
      " 'features a pool, solar energy, and pet-friendly accommodations. Enjoy the '\n",
      " 'convenience of being close to schools, drug stores, supermarkets, and malls, '\n",
      " 'while also being within walking distance to fantastic disco bars, nice '\n",
      " 'restaurants, and good bars. The secure and bike-friendly roads make '\n",
      " 'commuting to work a breeze. With generous parking and gardens, this reduce '\n",
      " \"mobility friendly house is the perfect place to call home. Don't miss out on \"\n",
      " 'this amazing opportunity for only $750,000!')\n",
      "'Description length: 119 words.'\n",
      "______________________________________________________________________________________________________________________________________________________\n",
      "('\\n'\n",
      " 'This stunning townhouse located in the bustling residential location of '\n",
      " 'Manhattan offers the perfect combination of luxury and convenience. With a '\n",
      " 'spacious 1000 sqft house size, this contemporary style home boasts 4 '\n",
      " 'bedrooms and 3 bathrooms, making it the ideal space for a growing family. '\n",
      " 'The neighborhood is highly sought after for its closeness to top-rated '\n",
      " 'schools, secure environment, and proximity to essential amenities such as '\n",
      " 'drug stores, supermarkets, and malls. For those who love to explore, this '\n",
      " 'area is also close to popular tourist attractions and features fantastic '\n",
      " 'disco bars, nice restaurants, and good bars. The house itself offers a pool, '\n",
      " 'solar energy, and generous parking, as well as being pet-friendly and reduce '\n",
      " \"mobility friendly. Don't miss the opportunity to call this gem your own in \"\n",
      " 'the heart of Manhattan.')\n",
      "'Description length: 131 words.'\n",
      "______________________________________________________________________________________________________________________________________________________\n",
      "('Welcome to this stunning townhouse located in the bustling residential '\n",
      " 'location of Manhattan. This contemporary style house offers 4 spacious '\n",
      " 'bedrooms and 1 modern bathroom, perfect for a growing family. With a '\n",
      " 'generous 9600 sqft of space, there is plenty of room for all your needs. The '\n",
      " 'neighborhood boasts a secure and bike-friendly environment, making it ideal '\n",
      " 'for daily commutes to work or school. Enjoy the convenience of living near '\n",
      " 'drug stores, supermarkets, malls, and fantastic restaurants and bars. This '\n",
      " 'house also features a pool, solar energy, and is pet-friendly. With generous '\n",
      " 'parking and reduced mobility accessibility, this house truly has it all. '\n",
      " \"Don't miss the opportunity to call this beautiful house your home.\")\n",
      "'Description length: 114 words.'\n",
      "______________________________________________________________________________________________________________________________________________________\n",
      "('\\n'\n",
      " 'This stunning contemporary townhouse in the bustling residential '\n",
      " 'neighborhood of Staten Island offers the perfect blend of comfort and '\n",
      " 'convenience. With 5 spacious bedrooms and 3 modern bathrooms, this 2700 sqft '\n",
      " 'house is ideal for a growing family. The neighborhood boasts a secure '\n",
      " \"environment, with schools, drug stores, and supermarkets just a stone's \"\n",
      " 'throw away. Enjoy the fantastic disco bars and good bars in the area, or '\n",
      " 'take a bike ride to nearby touristic places. This pet-friendly house also '\n",
      " 'features a pool, solar energy, and generous parking. The reduce mobility '\n",
      " 'friendly design and beautiful gardens make this house a true gem in the '\n",
      " \"heart of Staten Island. Don't miss out on the opportunity to call this place \"\n",
      " 'home for the affordable price of $600,000.')\n",
      "'Description length: 124 words.'\n",
      "______________________________________________________________________________________________________________________________________________________\n",
      "('\\n'\n",
      " 'Nestled in the bustling residential location of Brooklyn, this contemporary '\n",
      " 'townhouse offers the perfect combination of modern living and convenience. '\n",
      " 'With a spacious 9800 sqft house size, this pet-friendly property boasts 2 '\n",
      " 'bedrooms and 3 bathrooms, perfect for a small family. Enjoy the luxury of a '\n",
      " 'private pool and solar energy, making it both eco-friendly and '\n",
      " 'cost-efficient. The neighborhood is highly sought after for its close '\n",
      " 'proximity to schools, drug stores, and supermarkets, as well as fantastic '\n",
      " 'disco bars, nice restaurants, and good bars. The bike-friendly roads and '\n",
      " 'generous parking make commuting a breeze, while the reduce mobility friendly '\n",
      " \"design ensures comfort for all. Don't miss the opportunity to call this \"\n",
      " 'house your home, located in the heart of Brooklyn. ')\n",
      "'Description length: 121 words.'\n",
      "______________________________________________________________________________________________________________________________________________________\n",
      "('Nestled in the bustling residential location of Queens, this contemporary '\n",
      " 'townhouse offers the perfect blend of luxury and convenience. With a '\n",
      " 'spacious 2600 sqft of living space, this 4 bedroom, 4 bathroom home is ideal '\n",
      " 'for families and those who love to entertain. The neighborhood boasts a '\n",
      " 'secure and bike-friendly environment, with easy access to schools, drug '\n",
      " 'stores, and supermarkets. Enjoy the convenience of being close to work and '\n",
      " 'popular touristic places, while also having fantastic disco bars, nice '\n",
      " 'restaurants, and good bars right at your doorstep. The house itself features '\n",
      " 'a pool, solar energy, and generous parking, as well as being pet-friendly '\n",
      " \"and reduce mobility friendly. Don't miss out on the opportunity to call this \"\n",
      " 'stunning house in Queens your home.')\n",
      "'Description length: 122 words.'\n",
      "______________________________________________________________________________________________________________________________________________________\n",
      "('\\n'\n",
      " 'Experience the best of Bronx living in this stunning contemporary townhouse. '\n",
      " 'Located in a bustling residential location, this 5 bedroom, 4 bathroom house '\n",
      " 'boasts 4,100 sqft of living space and is priced at $300,000. Nestled in a '\n",
      " 'secure neighborhood, this home is perfect for families with its closeness to '\n",
      " 'schools, drug stores, and supermarkets. Enjoy the convenience of being close '\n",
      " 'to work and the luxury of having fantastic disco bars, nice restaurants, and '\n",
      " 'good bars in the area. This pet-friendly house also features a pool, solar '\n",
      " 'energy, generous parking, and gardens, making it the ideal home for those '\n",
      " \"who value modern amenities and reduce mobility accessibility. Don't miss the \"\n",
      " 'opportunity to call this house your home. Schedule a viewing today!')\n",
      "'Description length: 120 words.'\n",
      "______________________________________________________________________________________________________________________________________________________\n",
      "('\\n'\n",
      " 'Experience the best of Staten Island living with this stunning townhouse. '\n",
      " 'Located in a bustling residential location, this contemporary style home '\n",
      " 'offers 1200 sqft of luxurious living space. Boasting 2 bedrooms and 4 '\n",
      " 'bathrooms, this home is perfect for families or those who love to entertain. '\n",
      " 'Enjoy the convenience of being close to schools, drug stores, supermarkets, '\n",
      " 'and malls, making daily errands a breeze. With fantastic disco bars, nice '\n",
      " \"restaurants, and good bars in the area, you'll always have something fun to \"\n",
      " 'do. Take a dip in the pool, soak up the sun with solar energy, and let your '\n",
      " 'furry friends roam in the pet-friendly gardens. Plus, generous parking and '\n",
      " \"bike-friendly roads make commuting a breeze. Don't miss out on this \"\n",
      " 'incredible opportunity to call this house your home for just $900,000.')\n",
      "'Description length: 132 words.'\n",
      "______________________________________________________________________________________________________________________________________________________\n",
      "('\\n'\n",
      " 'Located in the bustling residential location of The Bronx, this contemporary '\n",
      " 'townhouse offers the perfect combination of comfort and convenience. With 4 '\n",
      " 'bedrooms and 4 bathrooms, this spacious 1600 sqft house is ideal for '\n",
      " 'families. The neighborhood boasts of its closeness to top-rated schools, '\n",
      " 'making it an ideal location for growing families. Enjoy the secure and '\n",
      " 'bike-friendly roads, as well as the convenience of drug stores, '\n",
      " \"supermarkets, and malls just a stone's throw away. For those looking for \"\n",
      " 'some entertainment, fantastic disco bars and good bars can be found in the '\n",
      " 'area. The house itself features a pool, solar energy, and is pet-friendly '\n",
      " 'with generous parking and gardens. It is also reduce mobility friendly, '\n",
      " \"making it suitable for all. Don't miss the opportunity to call this house \"\n",
      " 'your home. Schedule a viewing today!')\n",
      "'Description length: 133 words.'\n",
      "______________________________________________________________________________________________________________________________________________________\n",
      "('\\n'\n",
      " 'This charming townhouse in the bustling and highly sought-after neighborhood '\n",
      " 'of Brooklyn offers the perfect blend of urban convenience and suburban '\n",
      " 'tranquility. With its contemporary style and generous size of 2200 sqft, '\n",
      " 'this 1 bedroom, 1 bathroom house is ideal for those seeking a '\n",
      " 'low-maintenance yet luxurious living experience.\\n'\n",
      " '\\n'\n",
      " 'The neighborhood boasts a secure and bike-friendly environment, making it '\n",
      " 'perfect for families and individuals alike. Its proximity to schools, drug '\n",
      " 'stores, supermarkets, and malls makes daily errands a breeze. And for those '\n",
      " 'looking for some entertainment, the fantastic disco bars, nice restaurants, '\n",
      " 'and good bars in the area will surely not disappoint.\\n'\n",
      " '\\n'\n",
      " 'This home also offers the perfect balance of indoor and outdoor living with '\n",
      " 'its pool, gardens, and solar energy system. And with its reduce '\n",
      " \"mobility-friendly features, it's perfect for all members of the family, \"\n",
      " \"including pets. Don't miss the opportunity to make this house your dream \"\n",
      " 'home in the heart of Brooklyn for just $400,000. ')\n",
      "'Description length: 156 words.'\n",
      "______________________________________________________________________________________________________________________________________________________\n",
      "('\\n'\n",
      " 'Located in the bustling residential location of The Bronx, this contemporary '\n",
      " 'townhouse offers the perfect balance of city living and suburban comfort. '\n",
      " 'With a spacious 1200 sqft house size, this 3 bedroom, 4 bathroom home is '\n",
      " 'perfect for families or those who love to entertain. The neighborhood boasts '\n",
      " 'a variety of amenities, including top-rated schools, secure streets, and '\n",
      " 'convenient access to drug stores, supermarkets, and malls. For those who '\n",
      " 'enjoy an active lifestyle, there are bike-friendly roads and fantastic disco '\n",
      " 'bars nearby. The house itself features a pool, solar energy, and generous '\n",
      " 'parking, making it perfect for pet owners and those with reduced mobility. '\n",
      " \"Don't miss your chance to call this house your home.\")\n",
      "'Description length: 114 words.'\n",
      "______________________________________________________________________________________________________________________________________________________\n",
      "('\\n'\n",
      " 'Located in the bustling residential neighborhood of Staten Island, this '\n",
      " 'stunning townhouse offers the perfect blend of comfort and convenience. With '\n",
      " '1 bedroom and 4 bathrooms, this contemporary style home boasts a spacious '\n",
      " '9200 sqft and is priced at $900,000. The secure neighborhood is in close '\n",
      " 'proximity to top-rated schools, drug stores, and supermarkets, making daily '\n",
      " 'errands a breeze. Enjoy the vibrant nightlife with fantastic disco bars and '\n",
      " 'good bars just minutes away. For those who love the outdoors, the '\n",
      " 'bike-friendly roads and nearby touristic places are a dream come true. This '\n",
      " 'pet-friendly home also features a pool, solar energy, generous parking, and '\n",
      " 'gardens, making it the ideal choice for those looking for reduced mobility '\n",
      " \"options. Don't miss the chance to make this your dream home in Staten \"\n",
      " 'Island.')\n",
      "'Description length: 129 words.'\n",
      "______________________________________________________________________________________________________________________________________________________\n",
      "('\\n'\n",
      " 'This stunning contemporary townhouse in the bustling residential location of '\n",
      " 'Staten Island is the perfect combination of luxury and convenience. With '\n",
      " '2000 sqft of living space, this 1 bedroom, 1 bathroom house is perfect for '\n",
      " 'those seeking a low-maintenance lifestyle. The neighborhood boasts close '\n",
      " 'proximity to top-rated schools, drug stores, and supermarkets, making '\n",
      " 'errands a breeze. Enjoy the vibrant nightlife with fantastic disco bars and '\n",
      " \"good bars just a stone's throw away. The house features a pool, solar \"\n",
      " 'energy, and generous parking, perfect for entertaining and reducing utility '\n",
      " 'costs. The pet-friendly and reduce mobility friendly design make this home '\n",
      " \"suitable for all. Don't miss the opportunity to live in this secure and \"\n",
      " 'bike-friendly neighborhood close to work and popular tourist spots.')\n",
      "'Description length: 121 words.'\n",
      "______________________________________________________________________________________________________________________________________________________\n",
      "('\\n'\n",
      " 'Located in the bustling residential location of The Bronx, this contemporary '\n",
      " 'townhouse offers the perfect combination of convenience and luxury. With 4 '\n",
      " 'bedrooms and 5 bathrooms spread over 3600 sqft, this home is perfect for '\n",
      " 'families or those who love to entertain. The neighborhood boasts close '\n",
      " 'proximity to schools, drug stores, and supermarkets, making daily errands a '\n",
      " 'breeze. For those who enjoy a vibrant nightlife, fantastic disco bars and '\n",
      " 'good bars can be found in the area. Plus, being close to touristic places '\n",
      " 'and having bike-friendly roads adds to the convenience. The house itself '\n",
      " 'features a pool, solar energy, and generous parking, making it pet-friendly '\n",
      " \"and reduce mobility friendly. Don't miss the opportunity to call this \"\n",
      " 'beautiful house your home.')\n",
      "'Description length: 120 words.'\n",
      "______________________________________________________________________________________________________________________________________________________\n",
      "('\\n'\n",
      " 'This stunning contemporary townhouse in the bustling residential location of '\n",
      " 'Queens is the perfect blend of luxury and convenience. Boasting 5 spacious '\n",
      " 'bedrooms and 3 modern bathrooms, this 7600 sqft home offers ample space for '\n",
      " 'comfortable living. The neighborhood is highly sought after for its '\n",
      " 'closeness to top-rated schools, secure environment, and easy access to drug '\n",
      " 'stores and supermarkets. And for those looking for some fun, there are '\n",
      " 'fantastic disco bars, nice restaurants, and good bars in the area. The house '\n",
      " 'itself features a pool, solar energy, and generous parking, making it '\n",
      " \"pet-friendly and reduce mobility friendly. Don't miss the chance to call \"\n",
      " 'this your dream home.')\n",
      "'Description length: 107 words.'\n",
      "______________________________________________________________________________________________________________________________________________________\n",
      "('\\n'\n",
      " 'Nestled in the bustling residential location of The Bronx, this contemporary '\n",
      " 'townhouse offers the perfect blend of city living and suburban comfort. '\n",
      " 'Boasting 3 bedrooms and 4 bathrooms, this spacious 6000 sqft home is perfect '\n",
      " 'for a growing family. The neighborhood offers a secure and family-friendly '\n",
      " 'environment, with schools, drug stores, supermarkets, and malls all within '\n",
      " 'close proximity. Enjoy the convenience of being close to work and popular '\n",
      " 'touristic places, while also having access to fantastic disco bars, nice '\n",
      " 'restaurants, and good bars in the area. With a pool, solar energy, '\n",
      " 'pet-friendly policies, generous parking, and gardens, this home truly has it '\n",
      " \"all. Don't miss the opportunity to call this house your home in The Bronx!\")\n",
      "'Description length: 116 words.'\n",
      "______________________________________________________________________________________________________________________________________________________\n",
      "('\\n'\n",
      " 'Located in the bustling residential neighborhood of The Bronx, this '\n",
      " 'contemporary townhouse offers the perfect blend of convenience and luxury '\n",
      " 'living. Boasting a spacious 1900 sqft house size, this one-bedroom home is '\n",
      " 'perfect for those seeking a low-maintenance lifestyle. The neighborhood '\n",
      " 'offers a secure and bike-friendly environment, with easy access to schools, '\n",
      " 'drug stores, and supermarkets. Enjoy the convenience of solar energy and '\n",
      " 'generous parking, along with the added bonus of a pool and gardens for '\n",
      " 'outdoor relaxation. With its close proximity to work, touristic places, and '\n",
      " 'fantastic disco bars, this home is ideal for those seeking a vibrant and '\n",
      " \"active lifestyle. Don't miss out on this pet-friendly gem in the heart of \"\n",
      " 'The Bronx.')\n",
      "'Description length: 115 words.'\n",
      "______________________________________________________________________________________________________________________________________________________\n"
     ]
    }
   ],
   "source": [
    "\n",
    "for description in description_list:\n",
    "    pprint(description)\n",
    "    description_length = len(description.split(\" \"))\n",
    "    pprint(f\"Description length: {description_length} words.\")\n",
    "    print(\"_\"*150)\n",
    "\n"
   ]
  },
  {
   "cell_type": "code",
   "execution_count": 52,
   "metadata": {},
   "outputs": [
    {
     "name": "stdout",
     "output_type": "stream",
     "text": [
      "\n",
      "Welcome to this charming contemporary townhouse located in the bustling residential neighborhood of Queens. Perfect for a single person or couple, this 1 bedroom, 2 bathroom house boasts a spacious 3600 sqft of living space. The secure neighborhood offers peace of mind while the closeness to schools, drug stores, and supermarkets provides convenience. Enjoy the fantastic disco bars, nice restaurants, and good bars in the area for entertainment. This pet-friendly house also features a pool, solar energy, and generous parking. The bike-friendly roads and reduce mobility accessibility make it easy to get around. Don't miss the chance to own a piece of this vibrant and desirable neighborhood for just $400,000.\n"
     ]
    }
   ],
   "source": [
    "print(description_list[3])"
   ]
  },
  {
   "cell_type": "markdown",
   "metadata": {},
   "source": [
    "# Store Data in Vector Database"
   ]
  },
  {
   "cell_type": "code",
   "execution_count": 15,
   "metadata": {},
   "outputs": [],
   "source": [
    "# !rm -r chroma"
   ]
  },
  {
   "cell_type": "code",
   "execution_count": 53,
   "metadata": {},
   "outputs": [
    {
     "name": "stderr",
     "output_type": "stream",
     "text": [
      "/Users/arturopolancolozano/opt/anaconda3/lib/python3.9/site-packages/langchain_core/_api/deprecation.py:117: LangChainDeprecationWarning: The class `langchain_community.embeddings.openai.OpenAIEmbeddings` was deprecated in langchain-community 0.1.0 and will be removed in 0.2.0. An updated version of the class exists in the langchain-openai package and should be used instead. To use it run `pip install -U langchain-openai` and import as `from langchain_openai import OpenAIEmbeddings`.\n",
      "  warn_deprecated(\n"
     ]
    }
   ],
   "source": [
    "embedding = OpenAIEmbeddings()\n",
    "\n",
    "PERSIST_CHROMA_DIR = \"chroma/\"\n",
    "\n",
    "vector_data = Chroma.from_texts(\n",
    "    texts = description_list, \n",
    "    embedding = embedding, \n",
    "    persist_directory = PERSIST_CHROMA_DIR\n",
    ")\n"
   ]
  },
  {
   "cell_type": "code",
   "execution_count": 54,
   "metadata": {},
   "outputs": [
    {
     "name": "stdout",
     "output_type": "stream",
     "text": [
      "40\n"
     ]
    }
   ],
   "source": [
    "print(vector_data._collection.count())"
   ]
  },
  {
   "cell_type": "code",
   "execution_count": 55,
   "metadata": {},
   "outputs": [
    {
     "name": "stdout",
     "output_type": "stream",
     "text": [
      "01_exercise.ipynb                     \u001b[34mflagged\u001b[m\u001b[m\n",
      "\u001b[34m__pycache__\u001b[m\u001b[m                           gradio_exercises.ipynb\n",
      "chatgpt_descriptions.csv              personalized_listing_generation.ipynb\n",
      "\u001b[34mchroma\u001b[m\u001b[m                                real_state_chatbot.ipynb\n",
      "constants.py                          test_gradio.ipynb\n",
      "data_generation.ipynb\n"
     ]
    }
   ],
   "source": [
    "!ls"
   ]
  },
  {
   "cell_type": "markdown",
   "metadata": {},
   "source": [
    "# Send Queries to the Database"
   ]
  },
  {
   "cell_type": "code",
   "execution_count": 56,
   "metadata": {},
   "outputs": [],
   "source": [
    "question = \"Suggest houses in The Bronx that have a pool.\"\n",
    "search_result = vector_data.similarity_search(\n",
    "    question, \n",
    "    k=3\n",
    ")"
   ]
  },
  {
   "cell_type": "code",
   "execution_count": 57,
   "metadata": {},
   "outputs": [
    {
     "name": "stdout",
     "output_type": "stream",
     "text": [
      "3\n"
     ]
    }
   ],
   "source": [
    "print(len(search_result))"
   ]
  },
  {
   "cell_type": "code",
   "execution_count": 23,
   "metadata": {},
   "outputs": [
    {
     "name": "stdout",
     "output_type": "stream",
     "text": [
      "page_content='\\nNestled in the vibrant neighborhood of The Bronx, this charming 2-bedroom, 3-bathroom house is a perfect blend of comfort and convenience. With a spacious 3200 sqft, this home offers ample space for a growing family. The suburban location provides a peaceful and secure environment, while still being close to popular tourist spots such as the Bronx Zoo and Yankee Stadium. Public transportation is easily accessible, making daily commutes a breeze. Schools, malls, supermarkets, and drugstores are all within a short distance, making errands a quick and easy task. The house also features a garden and a pool, perfect for outdoor relaxation. With its modern architectural style and bike-friendly roads, this house is a must-see!'\n",
      "________________________________________________________________________________________________________________________________________________________________________________________________________\n",
      "page_content=\"\\nThis spacious 3-bedroom, 4-bathroom house in The Bronx is the perfect blend of comfort and functionality. With a price of $550,000 and a generous house size of 7000 sqft, this home offers plenty of space for a growing family. The neighborhood is safe and secure, with easy access to public transportation and close proximity to schools, malls, supermarkets, and drugstores. The architectural style is modern and sleek, with bike-friendly roads and easy access for those with reduced mobility. Additionally, the house features solar energy implementation, making it an eco-friendly choice. Relax in the backyard with a garden and pool, or park your car in the spacious driveway. Don't miss out on this opportunity to call The Bronx your new home.\"\n",
      "________________________________________________________________________________________________________________________________________________________________________________________________________\n",
      "page_content=\"\\nLocated in the bustling neighborhood of The Bronx, this charming house offers the perfect blend of suburban living and urban convenience. With 2 bedrooms and 1 bathroom spread over 7100 sqft, this home is ideal for a small family or a couple looking for a cozy space. The house features a modern architectural style and is equipped with solar panels for eco-friendly living. The neighborhood is bike-friendly and offers easy access to public transportation, making it a breeze to explore the nearby tourist attractions. With schools, malls, supermarkets, and drugstores in close proximity, this house offers the perfect balance of convenience and comfort. Don't miss out on the opportunity to make this house your dream home!\"\n",
      "________________________________________________________________________________________________________________________________________________________________________________________________________\n"
     ]
    }
   ],
   "source": [
    "for result in search_result:\n",
    "    print(result)\n",
    "    print(\"_\"*200)"
   ]
  },
  {
   "cell_type": "code",
   "execution_count": 59,
   "metadata": {},
   "outputs": [
    {
     "data": {
      "text/html": [
       "<div>\n",
       "<style scoped>\n",
       "    .dataframe tbody tr th:only-of-type {\n",
       "        vertical-align: middle;\n",
       "    }\n",
       "\n",
       "    .dataframe tbody tr th {\n",
       "        vertical-align: top;\n",
       "    }\n",
       "\n",
       "    .dataframe thead th {\n",
       "        text-align: right;\n",
       "    }\n",
       "</style>\n",
       "<table border=\"1\" class=\"dataframe\">\n",
       "  <thead>\n",
       "    <tr style=\"text-align: right;\">\n",
       "      <th></th>\n",
       "      <th>descriptions</th>\n",
       "    </tr>\n",
       "  </thead>\n",
       "  <tbody>\n",
       "    <tr>\n",
       "      <th>0</th>\n",
       "      <td>\\nThis stunning contemporary townhouse in the ...</td>\n",
       "    </tr>\n",
       "    <tr>\n",
       "      <th>1</th>\n",
       "      <td>\\nExperience the best of Brooklyn living in th...</td>\n",
       "    </tr>\n",
       "    <tr>\n",
       "      <th>2</th>\n",
       "      <td>\\nNestled in the bustling residential location...</td>\n",
       "    </tr>\n",
       "    <tr>\n",
       "      <th>3</th>\n",
       "      <td>\\nWelcome to this charming contemporary townho...</td>\n",
       "    </tr>\n",
       "    <tr>\n",
       "      <th>4</th>\n",
       "      <td>Introducing this stunning contemporary townhou...</td>\n",
       "    </tr>\n",
       "  </tbody>\n",
       "</table>\n",
       "</div>"
      ],
      "text/plain": [
       "                                        descriptions\n",
       "0  \\nThis stunning contemporary townhouse in the ...\n",
       "1  \\nExperience the best of Brooklyn living in th...\n",
       "2  \\nNestled in the bustling residential location...\n",
       "3  \\nWelcome to this charming contemporary townho...\n",
       "4  Introducing this stunning contemporary townhou..."
      ]
     },
     "execution_count": 59,
     "metadata": {},
     "output_type": "execute_result"
    }
   ],
   "source": [
    "import pandas as pd\n",
    "\n",
    "data = pd.DataFrame()\n",
    "data[\"descriptions\"] = description_list\n",
    "data.head()"
   ]
  },
  {
   "cell_type": "code",
   "execution_count": 60,
   "metadata": {},
   "outputs": [],
   "source": [
    "data.to_csv(\"listings.csv\")"
   ]
  },
  {
   "cell_type": "markdown",
   "metadata": {},
   "source": [
    "# Generating Items in Common with the Search Result"
   ]
  },
  {
   "cell_type": "code",
   "execution_count": 161,
   "metadata": {},
   "outputs": [],
   "source": [
    "inference_bot = OpenAI(\n",
    "    model_name=completion_model_name, \n",
    "    temperature=0.0, \n",
    ")"
   ]
  },
  {
   "cell_type": "code",
   "execution_count": 162,
   "metadata": {},
   "outputs": [
    {
     "name": "stdout",
     "output_type": "stream",
     "text": [
      "Input variables: ['query_user']\n",
      "Input Query User: A house in The Bronx with a big garden, 3 bedrooms and two bathrooms, located in a safe neighborhood\n",
      "\n",
      "User's Requirements:\n",
      "- House located in The Bronx\n",
      "- Big garden\n",
      "- 3 bedrooms\n",
      "- 2 bathrooms\n",
      "- Safe neighborhood\n"
     ]
    }
   ],
   "source": [
    "template_generate_features_string = \"\"\"\n",
    "You are a piece of software that is helping a Housing Chatbot that\n",
    "is supporting users in New York City.\n",
    "\n",
    "Your job is to take a query from an user and generate a list of what the user \n",
    "requires in the house or neighborhood, call that list user's requirements. \n",
    "\n",
    "Here is a housing query asked by the customer, it is delimited by triple backticks:\n",
    "```{query_user}```\n",
    "\n",
    "Please be accurate, don't assume anything that wasn't mentioned by the user.\n",
    "\"\"\"\n",
    "\n",
    "\n",
    "features_template = ChatPromptTemplate.from_template(template_generate_features_string)\n",
    "print(f\"Input variables: {features_template.messages[0].input_variables}\")\n",
    "\n",
    "# input_query_user = \"I'm looking for a house in Manhattan with a pool.\"\n",
    "input_query_user = \"A house in The Bronx with a big garden, 3 bedrooms and two bathrooms, located in a safe neighborhood\"\n",
    "\n",
    "print(f\"Input Query User: {input_query_user}\")\n",
    "\n",
    "prompt_features = features_template.format_messages(\n",
    "    query_user = input_query_user, \n",
    ")\n",
    "\n",
    "bot_response_features = inference_bot.invoke(prompt_features)\n",
    "print(bot_response_features)"
   ]
  },
  {
   "cell_type": "code",
   "execution_count": 180,
   "metadata": {},
   "outputs": [
    {
     "name": "stdout",
     "output_type": "stream",
     "text": [
      "Input variables: ['output_database', 'user_list_requirements']\n",
      "****************************************************************************************************\n",
      "Database Output: \n",
      "Located in the bustling residential neighborhood of The Bronx, this contemporary townhouse offers the perfect blend of convenience and luxury living. Boasting a spacious 1900 sqft house size, this one-bedroom home is perfect for those seeking a low-maintenance lifestyle. The neighborhood offers a secure and bike-friendly environment, with easy access to schools, drug stores, and supermarkets. Enjoy the convenience of solar energy and generous parking, along with the added bonus of a pool and gardens for outdoor relaxation. With its close proximity to work, touristic places, and fantastic disco bars, this home is ideal for those seeking a vibrant and active lifestyle. Don't miss out on this pet-friendly gem in the heart of The Bronx.\n",
      "____________________________________________________________________________________________________\n",
      "Input User's Requirements: \n",
      "User's Requirements:\n",
      "- House located in The Bronx\n",
      "- Big garden\n",
      "- 3 bedrooms\n",
      "- 2 bathrooms\n",
      "- Safe neighborhood\n",
      "____________________________________________________________________________________________________\n",
      "****************************************************************************************************\n",
      "Similarities List:\n",
      "- House located in The Bronx\n",
      "- 3 bedrooms\n",
      "- 2 bathrooms\n",
      "\n",
      "Not Similarities List:\n",
      "- Big garden\n",
      "- Safe neighborhood\n"
     ]
    }
   ],
   "source": [
    "\n",
    "template_comparison_string = \"\"\"\n",
    "You are a piece of software that is helping a Real State Chatbot that\n",
    "is supporting users in New York City.\n",
    "\n",
    "Your job is to take a look at two things: \n",
    "1. A list of user's requirements\n",
    "2. A house description found in the database\n",
    "\n",
    "Using the requirements list you have to create two additional lists, \n",
    "1. The first list is for the user's requirements that were found \n",
    "in the database search, the similarities list.\n",
    "2. A second list is for the user's requirements that were not found\n",
    "in the database search, the not similarities list.\n",
    "\n",
    "There is no need to invent new items, just splitting the list in 2. \n",
    "\n",
    "The criteria for selecting items depends whether they are categorical or numerical variables:\n",
    "\n",
    "- For categorical variables you have to be very specific. For instance, if the house is \n",
    "located one boroughs like Manhattan and the user requires it to be in The Bronx then that item \n",
    "should go to the not similarities list, boroughs should equally match in order to go to the similarities list.\n",
    "If user requires the house to be in a safe neighborhood and there is no mention of that in the description, \n",
    "then that item should go to the not similarities list.\n",
    "\n",
    "- For numerical values we have two cases:\n",
    "    - If the price that the user can pay is equal or lower than the one found in the description, \n",
    "    then that item should go to the similarities list, if it's higher it has to go to the not\n",
    "    similarities list.\n",
    "\n",
    "    - For variables like the number of bathrooms, bedrooms, or size of the house, it is ok to put in \n",
    "    the similarities list if the value found in the database is equal or higher than the user requires it\n",
    "    If the value found in the database is smaller, then it should go to the not similarities list.\n",
    "\n",
    "\n",
    "\n",
    "Here is the list of user's requirements, it is delimited by triple backticks:\n",
    "```{user_list_requirements}```\n",
    "\n",
    "And here is the output found in the database, it is delimited by triple backticks:\n",
    "```{output_database}```\n",
    "\n",
    "\n",
    "\"\"\"\n",
    "\n",
    "\n",
    "comparison_template = ChatPromptTemplate.from_template(template_comparison_string)\n",
    "print(f\"Input variables: {comparison_template.messages[0].input_variables}\")\n",
    "print(\"*\"*100)\n",
    "\n",
    "sample_output_database = data[\"descriptions\"].iloc[-1]\n",
    "print(f\"Database Output: {sample_output_database}\")\n",
    "print(\"_\"*100)\n",
    "\n",
    "print(f\"Input User's Requirements: {bot_response_features}\")\n",
    "print(\"_\"*100)\n",
    "\n",
    "prompt_comparison = comparison_template.format_messages(\n",
    "    user_list_requirements = bot_response_features, \n",
    "    output_database = sample_output_database\n",
    ")\n",
    "\n",
    "print(\"*\"*100)\n",
    "bot_response_comparison = inference_bot.invoke(prompt_comparison)\n",
    "print(bot_response_comparison)\n",
    "\n",
    "\n"
   ]
  },
  {
   "cell_type": "code",
   "execution_count": null,
   "metadata": {},
   "outputs": [],
   "source": [
    "from langchain.chains import SimpleSequentialChain\n",
    "from langchain.chains import LLMChain\n",
    "from langchain_openai import ChatOpenAI\n",
    "\n",
    "\n",
    "\n",
    "\n",
    "chain_one = LLMChain(llm=inference_bot, prompt=prompt_features)\n",
    "chain_two = LLMChain(llm=inference_bot, prompt=comparison_template)\n",
    "overall_simple_chain = SimpleSequentialChain(\n",
    "    chains=[\n",
    "        chain_one, \n",
    "        chain_two\n",
    "    ],\n",
    "    verbose=True\n",
    ")"
   ]
  },
  {
   "cell_type": "code",
   "execution_count": null,
   "metadata": {},
   "outputs": [],
   "source": []
  }
 ],
 "metadata": {
  "kernelspec": {
   "display_name": "mlops",
   "language": "python",
   "name": "mlops"
  },
  "language_info": {
   "codemirror_mode": {
    "name": "ipython",
    "version": 3
   },
   "file_extension": ".py",
   "mimetype": "text/x-python",
   "name": "python",
   "nbconvert_exporter": "python",
   "pygments_lexer": "ipython3",
   "version": "3.9.12"
  }
 },
 "nbformat": 4,
 "nbformat_minor": 2
}
