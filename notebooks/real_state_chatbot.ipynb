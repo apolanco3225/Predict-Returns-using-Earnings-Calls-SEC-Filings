{
 "cells": [
  {
   "cell_type": "code",
   "execution_count": 2,
   "metadata": {},
   "outputs": [],
   "source": [
    "import os\n",
    "import gradio as gr \n",
    "\n",
    "from constants import OPENAI_API_KEY\n",
    "os.environ[\"OPENAI_API_KEY\"] =  OPENAI_API_KEY\n",
    "\n",
    "\n",
    "from langchain_openai import OpenAI\n",
    "from langchain.vectorstores import Chroma\n",
    "from langchain.prompts import ChatPromptTemplate\n",
    "from langchain_openai.embeddings import OpenAIEmbeddings\n",
    "\n",
    "\n",
    "completion_model_name = \"gpt-3.5-turbo-instruct\"\n"
   ]
  },
  {
   "cell_type": "code",
   "execution_count": 15,
   "metadata": {},
   "outputs": [],
   "source": [
    "embeddings_generator = OpenAIEmbeddings()\n",
    "\n",
    "DATABASE_PATH = \"chroma/\"\n",
    "\n",
    "vector_database = Chroma(\n",
    "    persist_directory = DATABASE_PATH, \n",
    "    embedding_function = embeddings_generator\n",
    ")\n",
    "\n",
    "\n",
    "def generate_suggestions(input_user_query):\n",
    "\n",
    "    search_result = vector_database.similarity_search(\n",
    "        input_user_query, \n",
    "        k=1\n",
    "    )\n",
    "    search_result_string = search_result[0].page_content\n",
    "    return search_result_string\n",
    "\n",
    "\n"
   ]
  },
  {
   "cell_type": "code",
   "execution_count": 17,
   "metadata": {},
   "outputs": [],
   "source": [
    "inference_bot = OpenAI(\n",
    "    model_name=completion_model_name, \n",
    "    temperature=0.0, \n",
    ")"
   ]
  },
  {
   "cell_type": "code",
   "execution_count": 35,
   "metadata": {},
   "outputs": [],
   "source": [
    "template_generate_features_string = \"\"\"\n",
    "You are a piece of software that is helping a Housing Chatbot that\n",
    "is supporting users in New York City.\n",
    "\n",
    "Your job is to take a query from an user and generate a list of what the user \n",
    "requires in the house or neighborhood, call that list user's requirements. \n",
    "\n",
    "Here is a housing query asked by the customer, it is delimited by triple backticks:\n",
    "```{query_user}```\n",
    "\n",
    "Please be accurate, don't assume anything that wasn't mentioned by the user.\n",
    "\"\"\"\n",
    "\n",
    "\n",
    "\n",
    "template_comparison_string = \"\"\"\n",
    "You are a piece of software that is helping a Real State Chatbot that\n",
    "is supporting users in New York City.\n",
    "\n",
    "Your job is to take a look at two things: \n",
    "1. A list of user's requirements\n",
    "2. A house description found in the database\n",
    "\n",
    "You need to traverse the user's requirements list and assign every \n",
    "item to one of the following groups:\n",
    "\n",
    "1. The similarities list, if the item is present in the house description\n",
    "found in the database.\n",
    "2. The not similarities list otherwise.\n",
    "\n",
    "There is no need to invent new items for the user's requirements list, just assign every \n",
    "item to one of the output lists.\n",
    "If all requirement items get assigned to one of the output lists, then add None to the empty list, \n",
    "do not use \"House\" as a default value for an empty list.\n",
    "\n",
    "\n",
    "\n",
    "The criteria for assigning items to the lists depends on whether the item has a  \n",
    "categorical or numerical variables:\n",
    "\n",
    "- For categorical variables you have to be very specific. For instance, if the house is \n",
    "located one boroughs like Manhattan and the user requires it to be in The Bronx then that item \n",
    "should go to the not similarities list, boroughs should equally match in order to go to the similarities list.\n",
    "If user requires the house to be in a safe neighborhood and there is no mention of that in the description, \n",
    "then that item should go to the not similarities list.\n",
    "\n",
    "- For numerical values we have two cases:\n",
    "    - If the price that the user can pay is equal or lower than the one found in the description, \n",
    "    then that item should go to the similarities list, if it's higher it has to go to the not\n",
    "    similarities list.\n",
    "\n",
    "    - For variables like the number of bathrooms, bedrooms, or size of the house, it is ok to put in \n",
    "    the similarities list if the value found in the database is equal or higher than the user requires it\n",
    "    If the value found in the database is smaller, then it should go to the not similarities list.\n",
    "\n",
    "\n",
    "\n",
    "Here is the list of user's requirements, it is delimited by triple backticks:\n",
    "```{user_list_requirements}```\n",
    "\n",
    "And here is the output found in the database, it is delimited by triple backticks:\n",
    "```{output_database}```\n",
    "\"\"\"\n",
    "\n",
    "\n",
    "features_template = ChatPromptTemplate.from_template(template_generate_features_string)\n",
    "\n",
    "comparison_template = ChatPromptTemplate.from_template(template_comparison_string)\n"
   ]
  },
  {
   "cell_type": "code",
   "execution_count": 36,
   "metadata": {},
   "outputs": [],
   "source": [
    "def generate_items_in_common(input_query, database_suggestion):\n",
    "\n",
    "\n",
    "    prompt_features = features_template.format_messages(\n",
    "        query_user = input_query, \n",
    "    )\n",
    "\n",
    "    bot_response_features = inference_bot.invoke(prompt_features)\n",
    "\n",
    "\n",
    "\n",
    "    prompt_comparison = comparison_template.format_messages(\n",
    "        user_list_requirements = bot_response_features, \n",
    "        output_database = database_suggestion\n",
    "    )\n",
    "\n",
    "    bot_response_comparison = inference_bot.invoke(prompt_comparison)\n",
    "    return bot_response_comparison\n"
   ]
  },
  {
   "cell_type": "code",
   "execution_count": 37,
   "metadata": {},
   "outputs": [
    {
     "name": "stdout",
     "output_type": "stream",
     "text": [
      "Running on local URL:  http://127.0.0.1:7898\n",
      "\n",
      "To create a public link, set `share=True` in `launch()`.\n"
     ]
    },
    {
     "data": {
      "text/html": [
       "<div><iframe src=\"http://127.0.0.1:7898/\" width=\"100%\" height=\"500\" allow=\"autoplay; camera; microphone; clipboard-read; clipboard-write;\" frameborder=\"0\" allowfullscreen></iframe></div>"
      ],
      "text/plain": [
       "<IPython.core.display.HTML object>"
      ]
     },
     "metadata": {},
     "output_type": "display_data"
    }
   ],
   "source": [
    "with gr.Blocks() as demo:\n",
    "\n",
    "    with gr.Row():\n",
    "\n",
    "        with gr.Column(scale=1):\n",
    "            query_user = gr.Textbox(label=\"Introduce what you are looking for in a house!\")\n",
    "            suggestion_button = gr.Button(\"Generate Suggestion!\")\n",
    "\n",
    "        with gr.Column(scale=1):\n",
    "            output_database = gr.Textbox(label=\"Suggested output\")\n",
    "            similarities_button = gr.Button(\"Find Similarities!\")\n",
    "\n",
    "            suggestion_button.click(\n",
    "                generate_suggestions, \n",
    "                inputs=[query_user], \n",
    "                outputs=[output_database]\n",
    "            )\n",
    "\n",
    "\n",
    "        with gr.Column(scale=1):\n",
    "            similarities = gr.Textbox(label=\"Items in common!\")\n",
    "            similarities_button.click(\n",
    "                generate_items_in_common, \n",
    "                inputs=[query_user, output_database], \n",
    "                outputs=[similarities]\n",
    "            )\n",
    "\n",
    "if __name__ == \"__main__\":\n",
    "    demo.launch()"
   ]
  },
  {
   "cell_type": "code",
   "execution_count": null,
   "metadata": {},
   "outputs": [],
   "source": []
  },
  {
   "cell_type": "code",
   "execution_count": null,
   "metadata": {},
   "outputs": [],
   "source": []
  },
  {
   "cell_type": "code",
   "execution_count": null,
   "metadata": {},
   "outputs": [],
   "source": []
  },
  {
   "cell_type": "code",
   "execution_count": 2,
   "metadata": {},
   "outputs": [],
   "source": [
    "DATABASE_DIRECTORY = 'chroma/'\n",
    "embedding_generator = OpenAIEmbeddings()\n",
    "\n",
    "vector_database = Chroma(\n",
    "    persist_directory = DATABASE_DIRECTORY, \n",
    "    embedding_function = embedding_generator\n",
    ")"
   ]
  },
  {
   "cell_type": "code",
   "execution_count": null,
   "metadata": {},
   "outputs": [],
   "source": []
  }
 ],
 "metadata": {
  "kernelspec": {
   "display_name": "mlops",
   "language": "python",
   "name": "mlops"
  },
  "language_info": {
   "codemirror_mode": {
    "name": "ipython",
    "version": 3
   },
   "file_extension": ".py",
   "mimetype": "text/x-python",
   "name": "python",
   "nbconvert_exporter": "python",
   "pygments_lexer": "ipython3",
   "version": "3.9.12"
  }
 },
 "nbformat": 4,
 "nbformat_minor": 2
}
